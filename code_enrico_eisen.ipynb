{
 "cells": [
  {
   "cell_type": "code",
   "execution_count": 1,
   "id": "8f00465b",
   "metadata": {},
   "outputs": [],
   "source": [
    "# Gegeben sei ein Liste von Symbolen (symbol_list) und ein einzelnes Symbol (symbol).\n",
    "# Schreibe eine Funktion, welche alle Symbole die gleich dem einzelnen Symbol sind an das Ende der Liste verschiebt, ohne dabei die Reihenfolge der anderen Symbole zu ändern oder die Liste zu kopieren.\n",
    "\n",
    "# symbol_list = [\"L\",\"F\",\"A\",\"B\",\"F\",\"C\",\"F\",\"O\",\"F\",\"U\",\"F\",\"R\",\"F\",\"S\",\"E\"]\n",
    "# symbol = [\"F\"]"
   ]
  },
  {
   "cell_type": "code",
   "execution_count": 2,
   "id": "a99810a2",
   "metadata": {},
   "outputs": [],
   "source": [
    "def move_to_end(symbol, symbol_list):\n",
    "    for character in symbol_list:\n",
    "        if character == symbol[0]:\n",
    "            symbol_list.append(symbol_list.pop(symbol_list.index(character)))\n",
    "\n",
    "def move_to_end_fast(symbol, symbol_list):\n",
    "    for i, character in enumerate(symbol_list):\n",
    "        if character == symbol[0]:\n",
    "            symbol_list.append(symbol_list.pop(i))\n"
   ]
  },
  {
   "cell_type": "code",
   "execution_count": 3,
   "id": "de258cd1",
   "metadata": {},
   "outputs": [
    {
     "data": {
      "text/plain": [
       "['L', 'A', 'B', 'C', 'O', 'U', 'R', 'S', 'E', 'F', 'F', 'F', 'F', 'F', 'F']"
      ]
     },
     "execution_count": 3,
     "metadata": {},
     "output_type": "execute_result"
    }
   ],
   "source": [
    "symbol_list = [\"L\",\"F\",\"A\",\"B\",\"F\",\"C\",\"F\",\"O\",\"F\",\"U\",\"F\",\"R\",\"F\",\"S\",\"E\"]\n",
    "symbol = [\"F\"]\n",
    "\n",
    "move_to_end(symbol, symbol_list)\n",
    "symbol_list"
   ]
  },
  {
   "cell_type": "code",
   "execution_count": 4,
   "id": "fd79b936",
   "metadata": {},
   "outputs": [
    {
     "data": {
      "text/plain": [
       "['L', 'A', 'B', 'C', 'O', 'U', 'R', 'S', 'E', 'F', 'F', 'F', 'F', 'F', 'F']"
      ]
     },
     "execution_count": 4,
     "metadata": {},
     "output_type": "execute_result"
    }
   ],
   "source": [
    "symbol_list = [\"L\",\"F\",\"A\",\"B\",\"F\",\"C\",\"F\",\"O\",\"F\",\"U\",\"F\",\"R\",\"F\",\"S\",\"E\"]\n",
    "symbol = [\"F\"]\n",
    "\n",
    "move_to_end_fast(symbol, symbol_list)\n",
    "symbol_list"
   ]
  }
 ],
 "metadata": {
  "kernelspec": {
   "display_name": "ml_env",
   "language": "python",
   "name": "ml_env"
  },
  "language_info": {
   "codemirror_mode": {
    "name": "ipython",
    "version": 3
   },
   "file_extension": ".py",
   "mimetype": "text/x-python",
   "name": "python",
   "nbconvert_exporter": "python",
   "pygments_lexer": "ipython3",
   "version": "3.9.5"
  }
 },
 "nbformat": 4,
 "nbformat_minor": 5
}
