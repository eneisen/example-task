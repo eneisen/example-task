{
 "cells": [
  {
   "cell_type": "code",
   "execution_count": 4,
   "id": "0382e729",
   "metadata": {},
   "outputs": [],
   "source": [
    "# Gegeben sei ein Liste von Symbolen (symbol_list) und ein einzelnes Symbol (symbol).\n",
    "# Schreibe eine Funktion, welche alle Symbole die gleich dem einzelnen Symbol sind an das Ende der Liste verschiebt, ohne dabei die Reihenfolge der anderen Symbole zu ändern oder die Liste zu kopieren.\n",
    "\n",
    "# symbol_list = [\"L\",\"F\",\"A\",\"B\",\"F\",\"C\",\"F\",\"O\",\"F\",\"U\",\"F\",\"R\",\"F\",\"S\",\"E\"]\n",
    "# symbol = [\"F\"]"
   ]
  },
  {
   "cell_type": "code",
   "execution_count": 5,
   "id": "a99810a2",
   "metadata": {},
   "outputs": [],
   "source": [
    "def move_symbol_to_end(symbol, symbol_list):\n",
    "    for i, character in enumerate(symbol_list):\n",
    "        if character == symbol[0]:\n",
    "            symbol_list.append(symbol_list.pop(i))"
   ]
  },
  {
   "cell_type": "code",
   "execution_count": 6,
   "id": "de258cd1",
   "metadata": {},
   "outputs": [
    {
     "name": "stdout",
     "output_type": "stream",
     "text": [
      "Moving symbol ['F'] to end.\n",
      "List before modification:\n",
      "['L', 'F', 'A', 'B', 'F', 'C', 'F', 'O', 'F', 'U', 'F', 'R', 'F', 'S', 'E']\n",
      "List after modification:\n",
      "['L', 'A', 'B', 'C', 'O', 'U', 'R', 'S', 'E', 'F', 'F', 'F', 'F', 'F', 'F']\n"
     ]
    }
   ],
   "source": [
    "symbol_list = [\"L\",\"F\",\"A\",\"B\",\"F\",\"C\",\"F\",\"O\",\"F\",\"U\",\"F\",\"R\",\"F\",\"S\",\"E\"]\n",
    "symbol = [\"F\"]\n",
    "print(f\"Moving symbol {symbol} to end.\\nList before modification:\\n{symbol_list}\")\n",
    "move_symbol_to_end(symbol, symbol_list)\n",
    "print(f\"List after modification:\\n{symbol_list}\")"
   ]
  }
 ],
 "metadata": {
  "kernelspec": {
   "display_name": "ml_env",
   "language": "python",
   "name": "ml_env"
  },
  "language_info": {
   "codemirror_mode": {
    "name": "ipython",
    "version": 3
   },
   "file_extension": ".py",
   "mimetype": "text/x-python",
   "name": "python",
   "nbconvert_exporter": "python",
   "pygments_lexer": "ipython3",
   "version": "3.9.5"
  }
 },
 "nbformat": 4,
 "nbformat_minor": 5
}
